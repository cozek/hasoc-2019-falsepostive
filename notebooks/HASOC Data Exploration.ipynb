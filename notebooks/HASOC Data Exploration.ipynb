{
 "cells": [
  {
   "cell_type": "code",
   "execution_count": 1,
   "metadata": {},
   "outputs": [],
   "source": [
    "import os\n",
    "import pickle\n",
    "import pandas as pd\n",
    "import seaborn as sns\n",
    "import matplotlib.pyplot as plt\n",
    "import argparse\n",
    "sns.set(style=\"darkgrid\")"
   ]
  },
  {
   "cell_type": "code",
   "execution_count": 2,
   "metadata": {},
   "outputs": [],
   "source": [
    "args= argparse.Namespace(\n",
    "    \n",
    "    loc = '../data/'\n",
    ")"
   ]
  },
  {
   "cell_type": "code",
   "execution_count": 3,
   "metadata": {},
   "outputs": [
    {
     "name": "stdout",
     "output_type": "stream",
     "text": [
      "english_dataset.tsv german_dataset.tsv  hindi_dataset.tsv\r\n"
     ]
    }
   ],
   "source": [
    "!ls ../data/train"
   ]
  },
  {
   "cell_type": "code",
   "execution_count": 4,
   "metadata": {},
   "outputs": [
    {
     "name": "stdout",
     "output_type": "stream",
     "text": [
      "english_data.tsv german_data.tsv  hindi_data.tsv\r\n"
     ]
    }
   ],
   "source": [
    "!ls ../data/gold"
   ]
  },
  {
   "cell_type": "code",
   "execution_count": 5,
   "metadata": {},
   "outputs": [],
   "source": [
    "ENGLISH_GOLD = pd.read_csv(\n",
    "    os.path.join(args.loc,'gold','english_data.tsv'),\n",
    "    sep='\\t'\n",
    ")\n",
    "HINDI_GOLD = pd.read_csv(\n",
    "    os.path.join(args.loc,'gold','hindi_data.tsv'),\n",
    "    sep='\\t'\n",
    ")\n",
    "GERMAN_GOLD = pd.read_csv(\n",
    "    os.path.join(args.loc,'gold','german_data.tsv'),\n",
    "    sep='\\t'\n",
    ")"
   ]
  },
  {
   "cell_type": "code",
   "execution_count": 6,
   "metadata": {},
   "outputs": [],
   "source": [
    "ENGLISH_TRAIN = pd.read_csv(\n",
    "    os.path.join(args.loc,'train','english_dataset.tsv',),\n",
    "    sep='\\t'\n",
    ")\n",
    "HINDI_TRAIN = pd.read_csv(\n",
    "    os.path.join(args.loc,'train','hindi_dataset.tsv',),\n",
    "    sep='\\t'\n",
    ")\n",
    "GERMAN_TRAIN = pd.read_csv(\n",
    "    os.path.join(args.loc,'train','german_dataset.tsv',),\n",
    "    sep='\\t'\n",
    ")"
   ]
  },
  {
   "cell_type": "markdown",
   "metadata": {},
   "source": [
    "# English Train Set"
   ]
  },
  {
   "cell_type": "code",
   "execution_count": 7,
   "metadata": {},
   "outputs": [
    {
     "data": {
      "text/html": [
       "<div>\n",
       "<style scoped>\n",
       "    .dataframe tbody tr th:only-of-type {\n",
       "        vertical-align: middle;\n",
       "    }\n",
       "\n",
       "    .dataframe tbody tr th {\n",
       "        vertical-align: top;\n",
       "    }\n",
       "\n",
       "    .dataframe thead th {\n",
       "        text-align: right;\n",
       "    }\n",
       "</style>\n",
       "<table border=\"1\" class=\"dataframe\">\n",
       "  <thead>\n",
       "    <tr style=\"text-align: right;\">\n",
       "      <th></th>\n",
       "      <th>text_id</th>\n",
       "      <th>text</th>\n",
       "      <th>task_1</th>\n",
       "      <th>task_2</th>\n",
       "      <th>task_3</th>\n",
       "    </tr>\n",
       "  </thead>\n",
       "  <tbody>\n",
       "    <tr>\n",
       "      <th>0</th>\n",
       "      <td>hasoc_en_1</td>\n",
       "      <td>#DhoniKeepsTheGlove | WATCH: Sports Minister K...</td>\n",
       "      <td>NOT</td>\n",
       "      <td>NONE</td>\n",
       "      <td>NONE</td>\n",
       "    </tr>\n",
       "    <tr>\n",
       "      <th>1</th>\n",
       "      <td>hasoc_en_2</td>\n",
       "      <td>@politico No. We should remember very clearly ...</td>\n",
       "      <td>HOF</td>\n",
       "      <td>HATE</td>\n",
       "      <td>TIN</td>\n",
       "    </tr>\n",
       "    <tr>\n",
       "      <th>2</th>\n",
       "      <td>hasoc_en_3</td>\n",
       "      <td>@cricketworldcup Guess who would be the winner...</td>\n",
       "      <td>NOT</td>\n",
       "      <td>NONE</td>\n",
       "      <td>NONE</td>\n",
       "    </tr>\n",
       "    <tr>\n",
       "      <th>3</th>\n",
       "      <td>hasoc_en_4</td>\n",
       "      <td>Corbyn is too politically intellectual for #Bo...</td>\n",
       "      <td>NOT</td>\n",
       "      <td>NONE</td>\n",
       "      <td>NONE</td>\n",
       "    </tr>\n",
       "    <tr>\n",
       "      <th>4</th>\n",
       "      <td>hasoc_en_5</td>\n",
       "      <td>All the best to #TeamIndia for another swimmin...</td>\n",
       "      <td>NOT</td>\n",
       "      <td>NONE</td>\n",
       "      <td>NONE</td>\n",
       "    </tr>\n",
       "    <tr>\n",
       "      <th>...</th>\n",
       "      <td>...</td>\n",
       "      <td>...</td>\n",
       "      <td>...</td>\n",
       "      <td>...</td>\n",
       "      <td>...</td>\n",
       "    </tr>\n",
       "    <tr>\n",
       "      <th>5847</th>\n",
       "      <td>hasoc_en_5848</td>\n",
       "      <td>@davidfrum @trueblueusa1 That's cute and all, ...</td>\n",
       "      <td>HOF</td>\n",
       "      <td>PRFN</td>\n",
       "      <td>UNT</td>\n",
       "    </tr>\n",
       "    <tr>\n",
       "      <th>5848</th>\n",
       "      <td>hasoc_en_5849</td>\n",
       "      <td>a recession issa comin' #maga #magamyass #fuck...</td>\n",
       "      <td>NOT</td>\n",
       "      <td>NONE</td>\n",
       "      <td>NONE</td>\n",
       "    </tr>\n",
       "    <tr>\n",
       "      <th>5849</th>\n",
       "      <td>hasoc_en_5850</td>\n",
       "      <td>#DoctorsFightBack  Will 'The Mad n Irrational ...</td>\n",
       "      <td>HOF</td>\n",
       "      <td>OFFN</td>\n",
       "      <td>TIN</td>\n",
       "    </tr>\n",
       "    <tr>\n",
       "      <th>5850</th>\n",
       "      <td>hasoc_en_5851</td>\n",
       "      <td>#ShiningIndia #educatedindia or more like RUND...</td>\n",
       "      <td>HOF</td>\n",
       "      <td>OFFN</td>\n",
       "      <td>UNT</td>\n",
       "    </tr>\n",
       "    <tr>\n",
       "      <th>5851</th>\n",
       "      <td>hasoc_en_5852</td>\n",
       "      <td>Could this be our new Prime Minister?     #Ric...</td>\n",
       "      <td>HOF</td>\n",
       "      <td>PRFN</td>\n",
       "      <td>UNT</td>\n",
       "    </tr>\n",
       "  </tbody>\n",
       "</table>\n",
       "<p>5852 rows × 5 columns</p>\n",
       "</div>"
      ],
      "text/plain": [
       "            text_id                                               text task_1  \\\n",
       "0        hasoc_en_1  #DhoniKeepsTheGlove | WATCH: Sports Minister K...    NOT   \n",
       "1        hasoc_en_2  @politico No. We should remember very clearly ...    HOF   \n",
       "2        hasoc_en_3  @cricketworldcup Guess who would be the winner...    NOT   \n",
       "3        hasoc_en_4  Corbyn is too politically intellectual for #Bo...    NOT   \n",
       "4        hasoc_en_5  All the best to #TeamIndia for another swimmin...    NOT   \n",
       "...             ...                                                ...    ...   \n",
       "5847  hasoc_en_5848  @davidfrum @trueblueusa1 That's cute and all, ...    HOF   \n",
       "5848  hasoc_en_5849  a recession issa comin' #maga #magamyass #fuck...    NOT   \n",
       "5849  hasoc_en_5850  #DoctorsFightBack  Will 'The Mad n Irrational ...    HOF   \n",
       "5850  hasoc_en_5851  #ShiningIndia #educatedindia or more like RUND...    HOF   \n",
       "5851  hasoc_en_5852  Could this be our new Prime Minister?     #Ric...    HOF   \n",
       "\n",
       "     task_2 task_3  \n",
       "0      NONE   NONE  \n",
       "1      HATE    TIN  \n",
       "2      NONE   NONE  \n",
       "3      NONE   NONE  \n",
       "4      NONE   NONE  \n",
       "...     ...    ...  \n",
       "5847   PRFN    UNT  \n",
       "5848   NONE   NONE  \n",
       "5849   OFFN    TIN  \n",
       "5850   OFFN    UNT  \n",
       "5851   PRFN    UNT  \n",
       "\n",
       "[5852 rows x 5 columns]"
      ]
     },
     "execution_count": 7,
     "metadata": {},
     "output_type": "execute_result"
    }
   ],
   "source": [
    "ENGLISH_TRAIN"
   ]
  },
  {
   "cell_type": "code",
   "execution_count": 8,
   "metadata": {},
   "outputs": [
    {
     "name": "stdout",
     "output_type": "stream",
     "text": [
      "            text_id  \\\n",
      "1810  hasoc_en_1811   \n",
      "4273  hasoc_en_4274   \n",
      "1508  hasoc_en_1509   \n",
      "1711  hasoc_en_1712   \n",
      "1666  hasoc_en_1667   \n",
      "\n",
      "                                                                                                                                                                                                                                                                                                                text  \\\n",
      "1810  500 doctors have already resigned in Bengal.    NRS 100  SSKM 175  National medical college 20  RG Kar 126  North Bengal college 119  Murshidabad 50  Rampurhat 37  Burdwan 26    #DoctorsFightBack #doctors_against_assualt   #doctors_against_assualt                                                          \n",
      "4273  Dear @ICC you may try removing the Army insignia from @msdhoni's Glove,  But you can not remove his love for nation from his heart!  We people of India are with Dhoni always ❤🇮🇳 #IndiaWithDhoni  #DhoniKeepsTheGlove #BalidanBadge https://t.co/WKomUqUBK3                                                     \n",
      "1508  This clown 😂😂 ⬇    He's got nothing, he's so full of shit!    #FuckTrump https://t.co/nFZSD2UGSB                                                                                                                                                                                                                 \n",
      "1711  @DAZN_USA @EddieHearn @stephenasmith @Andy_destroyer1 Stephen is nothing but a complete clueless #douchebag                                                                                                                                                                                                      \n",
      "1666  remember the Ind vs NZL T20 held on 7th Nov 2017 in Trivandrum, India in which the game started within half an hour after the heavy 5 hrs rain. What a pathetic condition for the stadiums in ENG even they are developed country. ICC has to be more vigilant. #ShameOnICC #ICCWC2019 https://t.co/vPdgFqhNmM   \n",
      "\n",
      "     task_1 task_2 task_3  \n",
      "1810  NOT    NONE   NONE   \n",
      "4273  HOF    HATE   TIN    \n",
      "1508  HOF    OFFN   TIN    \n",
      "1711  NOT    NONE   NONE   \n",
      "1666  NOT    NONE   NONE   \n"
     ]
    }
   ],
   "source": [
    "with pd.option_context('display.max_colwidth', -1): \n",
    "    print(ENGLISH_TRAIN.sample(5))"
   ]
  },
  {
   "cell_type": "code",
   "execution_count": 9,
   "metadata": {},
   "outputs": [
    {
     "data": {
      "text/plain": [
       "count    5852.000000\n",
       "mean      178.698565\n",
       "std        82.459246\n",
       "min        14.000000\n",
       "25%       113.000000\n",
       "50%       170.000000\n",
       "75%       247.000000\n",
       "max       991.000000\n",
       "Name: text, dtype: float64"
      ]
     },
     "execution_count": 9,
     "metadata": {},
     "output_type": "execute_result"
    }
   ],
   "source": [
    "ENGLISH_TRAIN.text.map(len).describe()"
   ]
  },
  {
   "cell_type": "code",
   "execution_count": 10,
   "metadata": {},
   "outputs": [
    {
     "data": {
      "image/png": "[encoded data removed]",
      "text/plain": [
       "<Figure size 936x288 with 3 Axes>"
      ]
     },
     "metadata": {
      "needs_background": "light"
     },
     "output_type": "display_data"
    }
   ],
   "source": [
    "with sns.plotting_context('paper',font_scale=1.5):\n",
    "    fig2, ax2 = plt.subplots(nrows=1, ncols=3,sharey = True, figsize=(13, 4))\n",
    "    axes2 = ax2.flatten()\n",
    "    fig2.tight_layout()\n",
    "\n",
    "    subplot_titles = ['Sub-Task A','Sub-Task B','Sub-Task C']\n",
    "\n",
    "    _dfs = [\n",
    "        ENGLISH_TRAIN['task_1'] ,\n",
    "        ENGLISH_TRAIN['task_2'] ,  \n",
    "        ENGLISH_TRAIN['task_3'] ,  \n",
    "    ]\n",
    "    for i,df in enumerate(_dfs):\n",
    "\n",
    "        axp  = sns.countplot(df,ax = axes2[i], color=(\"0.4\"))\n",
    "        axes2[i].set_title(subplot_titles[i])\n",
    "        axp.set_xlabel('label')\n",
    "        \n",
    "        for p in axp.patches:\n",
    "                axp.annotate('{}'.format(p.get_height()), (p.get_x()+0.2, p.get_height()+24))\n",
    "\n",
    "    fig2.savefig(\n",
    "        'images/english_train_countplot.pdf', format='pdf', dpi=600\n",
    "    )"
   ]
  },
  {
   "cell_type": "markdown",
   "metadata": {},
   "source": [
    "# English Test Set"
   ]
  },
  {
   "cell_type": "code",
   "execution_count": 11,
   "metadata": {},
   "outputs": [
    {
     "data": {
      "image/png": "[encoded data removed]",
      "text/plain": [
       "<Figure size 936x288 with 3 Axes>"
      ]
     },
     "metadata": {
      "needs_background": "light"
     },
     "output_type": "display_data"
    }
   ],
   "source": [
    "with sns.plotting_context('paper',font_scale=1.5):\n",
    "    fig2, ax2 = plt.subplots(nrows=1, ncols=3,sharey = True, figsize=(13, 4))\n",
    "    axes2 = ax2.flatten()\n",
    "    fig2.tight_layout()\n",
    "\n",
    "    subplot_titles = ['Sub-Task A','Sub-Task B','Sub-Task C']\n",
    "\n",
    "    _dfs = [\n",
    "        ENGLISH_GOLD['task_1'] ,\n",
    "        ENGLISH_GOLD['task_2'] ,  \n",
    "        ENGLISH_GOLD['task_3'] ,  \n",
    "    ]\n",
    "    for i,df in enumerate(_dfs):\n",
    "\n",
    "        axp  = sns.countplot(df,ax = axes2[i], color=(\"b\"))\n",
    "        axes2[i].set_title(subplot_titles[i])\n",
    "        axp.set_xlabel('label')\n",
    "        \n",
    "        for p in axp.patches:\n",
    "                axp.annotate('{}'.format(p.get_height()), (p.get_x()+0.2, p.get_height()+24))\n",
    "\n",
    "    fig2.savefig(\n",
    "        'images/english_gold_countplot.pdf', format='pdf', dpi=600\n",
    "    )"
   ]
  },
  {
   "cell_type": "markdown",
   "metadata": {},
   "source": [
    "# Hindi Train Set"
   ]
  },
  {
   "cell_type": "code",
   "execution_count": 12,
   "metadata": {},
   "outputs": [
    {
     "data": {
      "text/html": [
       "<div>\n",
       "<style scoped>\n",
       "    .dataframe tbody tr th:only-of-type {\n",
       "        vertical-align: middle;\n",
       "    }\n",
       "\n",
       "    .dataframe tbody tr th {\n",
       "        vertical-align: top;\n",
       "    }\n",
       "\n",
       "    .dataframe thead th {\n",
       "        text-align: right;\n",
       "    }\n",
       "</style>\n",
       "<table border=\"1\" class=\"dataframe\">\n",
       "  <thead>\n",
       "    <tr style=\"text-align: right;\">\n",
       "      <th></th>\n",
       "      <th>text_id</th>\n",
       "      <th>text</th>\n",
       "      <th>task_1</th>\n",
       "      <th>task_2</th>\n",
       "      <th>task_3</th>\n",
       "    </tr>\n",
       "  </thead>\n",
       "  <tbody>\n",
       "    <tr>\n",
       "      <th>0</th>\n",
       "      <td>hasoc_hi_5556</td>\n",
       "      <td>बांग्लादेश की शानदार वापसी, भारत को 314 रन पर ...</td>\n",
       "      <td>NOT</td>\n",
       "      <td>NONE</td>\n",
       "      <td>NONE</td>\n",
       "    </tr>\n",
       "    <tr>\n",
       "      <th>1</th>\n",
       "      <td>hasoc_hi_5648</td>\n",
       "      <td>सब रंडी नाच देखने मे व्यस्त जैसे ही कोई #शांती...</td>\n",
       "      <td>HOF</td>\n",
       "      <td>PRFN</td>\n",
       "      <td>UNT</td>\n",
       "    </tr>\n",
       "    <tr>\n",
       "      <th>2</th>\n",
       "      <td>hasoc_hi_164</td>\n",
       "      <td>तुम जैसे हरामियों के लिए बस जूतों की कमी है शु...</td>\n",
       "      <td>HOF</td>\n",
       "      <td>PRFN</td>\n",
       "      <td>TIN</td>\n",
       "    </tr>\n",
       "    <tr>\n",
       "      <th>3</th>\n",
       "      <td>hasoc_hi_3530</td>\n",
       "      <td>बीजेपी MLA आकाश विजयवर्गीय जेल से रिहा, जमानत ...</td>\n",
       "      <td>NOT</td>\n",
       "      <td>NONE</td>\n",
       "      <td>NONE</td>\n",
       "    </tr>\n",
       "    <tr>\n",
       "      <th>4</th>\n",
       "      <td>hasoc_hi_5206</td>\n",
       "      <td>चमकी बुखार: विधानसभा परिसर में आरजेडी का प्रदर...</td>\n",
       "      <td>NOT</td>\n",
       "      <td>NONE</td>\n",
       "      <td>NONE</td>\n",
       "    </tr>\n",
       "    <tr>\n",
       "      <th>...</th>\n",
       "      <td>...</td>\n",
       "      <td>...</td>\n",
       "      <td>...</td>\n",
       "      <td>...</td>\n",
       "      <td>...</td>\n",
       "    </tr>\n",
       "    <tr>\n",
       "      <th>4660</th>\n",
       "      <td>hasoc_hi_6606</td>\n",
       "      <td>पाकिस्तान ने हिंदुओं के ख़िलाफ़ बोलने वाले को ...</td>\n",
       "      <td>NOT</td>\n",
       "      <td>NONE</td>\n",
       "      <td>NONE</td>\n",
       "    </tr>\n",
       "    <tr>\n",
       "      <th>4661</th>\n",
       "      <td>hasoc_hi_4931</td>\n",
       "      <td>कोहली है #नेहरू नहीं जो अंग्रेजों के तलवे चाटन...</td>\n",
       "      <td>HOF</td>\n",
       "      <td>PRFN</td>\n",
       "      <td>TIN</td>\n",
       "    </tr>\n",
       "    <tr>\n",
       "      <th>4662</th>\n",
       "      <td>hasoc_hi_1059</td>\n",
       "      <td>परशुराम? वही जिसने अपनी मां की हत्या की थीं?</td>\n",
       "      <td>NOT</td>\n",
       "      <td>NONE</td>\n",
       "      <td>NONE</td>\n",
       "    </tr>\n",
       "    <tr>\n",
       "      <th>4663</th>\n",
       "      <td>hasoc_hi_5429</td>\n",
       "      <td>जिस देश में #कन्हैया_कुमार जैसा पढ़ा लिखा युवा...</td>\n",
       "      <td>HOF</td>\n",
       "      <td>HATE</td>\n",
       "      <td>TIN</td>\n",
       "    </tr>\n",
       "    <tr>\n",
       "      <th>4664</th>\n",
       "      <td>hasoc_hi_1656</td>\n",
       "      <td>इनके बापों मैं भी दम नहीं जो भारत को इस्लामिक ...</td>\n",
       "      <td>HOF</td>\n",
       "      <td>HATE</td>\n",
       "      <td>TIN</td>\n",
       "    </tr>\n",
       "  </tbody>\n",
       "</table>\n",
       "<p>4665 rows × 5 columns</p>\n",
       "</div>"
      ],
      "text/plain": [
       "            text_id                                               text task_1  \\\n",
       "0     hasoc_hi_5556  बांग्लादेश की शानदार वापसी, भारत को 314 रन पर ...    NOT   \n",
       "1     hasoc_hi_5648  सब रंडी नाच देखने मे व्यस्त जैसे ही कोई #शांती...    HOF   \n",
       "2      hasoc_hi_164  तुम जैसे हरामियों के लिए बस जूतों की कमी है शु...    HOF   \n",
       "3     hasoc_hi_3530  बीजेपी MLA आकाश विजयवर्गीय जेल से रिहा, जमानत ...    NOT   \n",
       "4     hasoc_hi_5206  चमकी बुखार: विधानसभा परिसर में आरजेडी का प्रदर...    NOT   \n",
       "...             ...                                                ...    ...   \n",
       "4660  hasoc_hi_6606  पाकिस्तान ने हिंदुओं के ख़िलाफ़ बोलने वाले को ...    NOT   \n",
       "4661  hasoc_hi_4931  कोहली है #नेहरू नहीं जो अंग्रेजों के तलवे चाटन...    HOF   \n",
       "4662  hasoc_hi_1059      परशुराम? वही जिसने अपनी मां की हत्या की थीं?     NOT   \n",
       "4663  hasoc_hi_5429  जिस देश में #कन्हैया_कुमार जैसा पढ़ा लिखा युवा...    HOF   \n",
       "4664  hasoc_hi_1656  इनके बापों मैं भी दम नहीं जो भारत को इस्लामिक ...    HOF   \n",
       "\n",
       "     task_2 task_3  \n",
       "0      NONE   NONE  \n",
       "1      PRFN    UNT  \n",
       "2      PRFN    TIN  \n",
       "3      NONE   NONE  \n",
       "4      NONE   NONE  \n",
       "...     ...    ...  \n",
       "4660   NONE   NONE  \n",
       "4661   PRFN    TIN  \n",
       "4662   NONE   NONE  \n",
       "4663   HATE    TIN  \n",
       "4664   HATE    TIN  \n",
       "\n",
       "[4665 rows x 5 columns]"
      ]
     },
     "execution_count": 12,
     "metadata": {},
     "output_type": "execute_result"
    }
   ],
   "source": [
    "HINDI_TRAIN"
   ]
  },
  {
   "cell_type": "code",
   "execution_count": 13,
   "metadata": {},
   "outputs": [
    {
     "name": "stdout",
     "output_type": "stream",
     "text": [
      "            text_id  \\\n",
      "3237  hasoc_hi_6509   \n",
      "1223  hasoc_hi_6252   \n",
      "2851  hasoc_hi_2818   \n",
      "2418  hasoc_hi_3400   \n",
      "618   hasoc_hi_6620   \n",
      "\n",
      "                                                                                                                                                                                                                                                                                           text  \\\n",
      "3237  लगातार #HeavyRain से #Mumbai और आसपास के इलाकों में वायु, सड़क और रेल यातायात बुरी तरह प्रभावित हुआ है। वहीं #MumbaiRain की वजह से शहर में बिजली की चपेट में आने से एक व्यक्ति की मौत हो गई, जबकि आकाशीय बिजली गिरने से तीन लोगों की मौत हो गई।                                             \n",
      "1223  2019 का लोकसभा का चुनाव अब तक के इतिहास में दुनिया का सबसे बड़ा लोकतांत्रिक चुनाव थाः पीएम @narendramodi जी ।  #MannKiBaat                                                                                                                                                                  \n",
      "2851  पैसे किते खाए है ये बताओ।क्या हर बाते बी जे पी का रंडी रोना रोते रहते हो                                                                                                                                                                                                                    \n",
      "2418  दिल्ली में सारेआम एक मंदिर तोड दिया गया और ना मिडिया खबर दिखा रही है , ना बालीवुड के भडवा कलाकार कुछ बोल रहा है और ना हीं कोई नेता। यहां तक की भाजपा के सातों निकम्मे सांसद भी चुप हैं। बेशर्म कहीं के  @BJP4India   @ManojTiwariMP   @GautamGambhir   @KapilMishra_IND   @DrKumarVishwas   \n",
      "618   सत्य कहो, स्पष्ट कहो,,   कहो न सुन्दर झूठ..   चाहे कोई खुश रहें,   चाहे जाए रूठ...!!   #feelings                                                                                                                                                                                            \n",
      "\n",
      "     task_1 task_2 task_3  \n",
      "3237  NOT    NONE   NONE   \n",
      "1223  NOT    NONE   NONE   \n",
      "2851  HOF    PRFN   TIN    \n",
      "2418  NOT    NONE   NONE   \n",
      "618   NOT    NONE   NONE   \n"
     ]
    }
   ],
   "source": [
    "with pd.option_context('display.max_colwidth', -1): \n",
    "    print(HINDI_TRAIN.sample(5))"
   ]
  },
  {
   "cell_type": "code",
   "execution_count": 14,
   "metadata": {},
   "outputs": [
    {
     "data": {
      "text/plain": [
       "count    4665.000000\n",
       "mean      152.538692\n",
       "std        80.516801\n",
       "min        19.000000\n",
       "25%        85.000000\n",
       "50%       136.000000\n",
       "75%       221.000000\n",
       "max       541.000000\n",
       "Name: text, dtype: float64"
      ]
     },
     "execution_count": 14,
     "metadata": {},
     "output_type": "execute_result"
    }
   ],
   "source": [
    "HINDI_TRAIN.text.map(len).describe()"
   ]
  },
  {
   "cell_type": "code",
   "execution_count": 15,
   "metadata": {},
   "outputs": [
    {
     "data": {
      "image/png": "[encoded data removed]",
      "text/plain": [
       "<Figure size 936x288 with 3 Axes>"
      ]
     },
     "metadata": {
      "needs_background": "light"
     },
     "output_type": "display_data"
    }
   ],
   "source": [
    "with sns.plotting_context('paper',font_scale=1.5):\n",
    "    fig2, ax2 = plt.subplots(nrows=1, ncols=3,sharey = True, figsize=(13, 4))\n",
    "    axes2 = ax2.flatten()\n",
    "    fig2.tight_layout()\n",
    "\n",
    "    subplot_titles = ['Sub-Task A','Sub-Task B','Sub-Task C']\n",
    "\n",
    "    _dfs = [\n",
    "        HINDI_TRAIN['task_1'] ,\n",
    "        HINDI_TRAIN['task_2'] ,  \n",
    "        HINDI_TRAIN['task_3'] ,  \n",
    "    ]\n",
    "    for i,df in enumerate(_dfs):\n",
    "\n",
    "        axp  = sns.countplot(df,ax = axes2[i], color=(\"0.4\"))\n",
    "        axes2[i].set_title(subplot_titles[i])\n",
    "        axp.set_xlabel('label')\n",
    "        \n",
    "        for p in axp.patches:\n",
    "                axp.annotate('{}'.format(p.get_height()), (p.get_x()+0.2, p.get_height()+24))\n",
    "\n",
    "    fig2.savefig(\n",
    "        'images/hindi_train_countplot.pdf', format='pdf', dpi=600\n",
    "    )\n",
    "        "
   ]
  },
  {
   "cell_type": "markdown",
   "metadata": {},
   "source": [
    "# Hindi Test Set"
   ]
  },
  {
   "cell_type": "code",
   "execution_count": 16,
   "metadata": {},
   "outputs": [
    {
     "data": {
      "image/png": "[encoded data removed]",
      "text/plain": [
       "<Figure size 936x288 with 3 Axes>"
      ]
     },
     "metadata": {
      "needs_background": "light"
     },
     "output_type": "display_data"
    }
   ],
   "source": [
    "with sns.plotting_context('paper',font_scale=1.5):\n",
    "    fig2, ax2 = plt.subplots(nrows=1, ncols=3,sharey = True, figsize=(13, 4))\n",
    "    axes2 = ax2.flatten()\n",
    "    fig2.tight_layout()\n",
    "\n",
    "    subplot_titles = ['Sub-Task A','Sub-Task B','Sub-Task C']\n",
    "\n",
    "    _dfs = [\n",
    "        HINDI_GOLD['task_1'] ,\n",
    "        HINDI_GOLD['task_2'] ,  \n",
    "        HINDI_GOLD['task_3'] ,  \n",
    "    ]\n",
    "    for i,df in enumerate(_dfs):\n",
    "\n",
    "        axp  = sns.countplot(df,ax = axes2[i], color=(\"b\"))\n",
    "        axes2[i].set_title(subplot_titles[i])\n",
    "        axp.set_xlabel('label')\n",
    "        \n",
    "        for p in axp.patches:\n",
    "                axp.annotate('{}'.format(p.get_height()), (p.get_x()+0.2, p.get_height()+24))\n",
    "                \n",
    "    fig2.savefig(\n",
    "        'images/hindi_gold_countplot.pdf', format='pdf', dpi=600\n",
    "    )"
   ]
  },
  {
   "cell_type": "markdown",
   "metadata": {},
   "source": [
    "# German Train Set"
   ]
  },
  {
   "cell_type": "code",
   "execution_count": 17,
   "metadata": {},
   "outputs": [
    {
     "data": {
      "text/html": [
       "<div>\n",
       "<style scoped>\n",
       "    .dataframe tbody tr th:only-of-type {\n",
       "        vertical-align: middle;\n",
       "    }\n",
       "\n",
       "    .dataframe tbody tr th {\n",
       "        vertical-align: top;\n",
       "    }\n",
       "\n",
       "    .dataframe thead th {\n",
       "        text-align: right;\n",
       "    }\n",
       "</style>\n",
       "<table border=\"1\" class=\"dataframe\">\n",
       "  <thead>\n",
       "    <tr style=\"text-align: right;\">\n",
       "      <th></th>\n",
       "      <th>text_id</th>\n",
       "      <th>text</th>\n",
       "      <th>task_1</th>\n",
       "      <th>task_2</th>\n",
       "    </tr>\n",
       "  </thead>\n",
       "  <tbody>\n",
       "    <tr>\n",
       "      <th>0</th>\n",
       "      <td>hasoc_de_1</td>\n",
       "      <td>Frank Rennicke – Ich bin stolz https://t.co/Cm...</td>\n",
       "      <td>NOT</td>\n",
       "      <td>NONE</td>\n",
       "    </tr>\n",
       "    <tr>\n",
       "      <th>1</th>\n",
       "      <td>hasoc_de_2</td>\n",
       "      <td>ANSEHEN.....und danach bitte TEILEN...TEILEN.....</td>\n",
       "      <td>NOT</td>\n",
       "      <td>NONE</td>\n",
       "    </tr>\n",
       "    <tr>\n",
       "      <th>2</th>\n",
       "      <td>hasoc_de_3</td>\n",
       "      <td>#Koeln Mohamed erkennt kein deutsches Recht so...</td>\n",
       "      <td>NOT</td>\n",
       "      <td>NONE</td>\n",
       "    </tr>\n",
       "    <tr>\n",
       "      <th>3</th>\n",
       "      <td>hasoc_de_4</td>\n",
       "      <td>#SaudiArabien ist eine brutale islamische Dikt...</td>\n",
       "      <td>NOT</td>\n",
       "      <td>NONE</td>\n",
       "    </tr>\n",
       "    <tr>\n",
       "      <th>4</th>\n",
       "      <td>hasoc_de_5</td>\n",
       "      <td>Bundespolizei #München hat im 1. Quartal 2019 ...</td>\n",
       "      <td>NOT</td>\n",
       "      <td>NONE</td>\n",
       "    </tr>\n",
       "    <tr>\n",
       "      <th>...</th>\n",
       "      <td>...</td>\n",
       "      <td>...</td>\n",
       "      <td>...</td>\n",
       "      <td>...</td>\n",
       "    </tr>\n",
       "    <tr>\n",
       "      <th>3814</th>\n",
       "      <td>hasoc_de_3815</td>\n",
       "      <td>akquirieren Männer,die sich um die Kinder kümm...</td>\n",
       "      <td>NOT</td>\n",
       "      <td>NONE</td>\n",
       "    </tr>\n",
       "    <tr>\n",
       "      <th>3815</th>\n",
       "      <td>hasoc_de_3816</td>\n",
       "      <td>Ja,schon seit Jahren!  Ich muß dran denken,das...</td>\n",
       "      <td>NOT</td>\n",
       "      <td>NONE</td>\n",
       "    </tr>\n",
       "    <tr>\n",
       "      <th>3816</th>\n",
       "      <td>hasoc_de_3817</td>\n",
       "      <td>@Kurkamp @wendt_joachim @Schroeder_Live @lamni...</td>\n",
       "      <td>NOT</td>\n",
       "      <td>NONE</td>\n",
       "    </tr>\n",
       "    <tr>\n",
       "      <th>3817</th>\n",
       "      <td>hasoc_de_3818</td>\n",
       "      <td>EU Wahlen!  AfD für Kindererziehungszeiten für...</td>\n",
       "      <td>NOT</td>\n",
       "      <td>NONE</td>\n",
       "    </tr>\n",
       "    <tr>\n",
       "      <th>3818</th>\n",
       "      <td>hasoc_de_3819</td>\n",
       "      <td>Es ist schon merkwürdig,da soll ein Wettstreit...</td>\n",
       "      <td>NOT</td>\n",
       "      <td>NONE</td>\n",
       "    </tr>\n",
       "  </tbody>\n",
       "</table>\n",
       "<p>3819 rows × 4 columns</p>\n",
       "</div>"
      ],
      "text/plain": [
       "            text_id                                               text task_1  \\\n",
       "0        hasoc_de_1  Frank Rennicke – Ich bin stolz https://t.co/Cm...    NOT   \n",
       "1        hasoc_de_2  ANSEHEN.....und danach bitte TEILEN...TEILEN.....    NOT   \n",
       "2        hasoc_de_3  #Koeln Mohamed erkennt kein deutsches Recht so...    NOT   \n",
       "3        hasoc_de_4  #SaudiArabien ist eine brutale islamische Dikt...    NOT   \n",
       "4        hasoc_de_5  Bundespolizei #München hat im 1. Quartal 2019 ...    NOT   \n",
       "...             ...                                                ...    ...   \n",
       "3814  hasoc_de_3815  akquirieren Männer,die sich um die Kinder kümm...    NOT   \n",
       "3815  hasoc_de_3816  Ja,schon seit Jahren!  Ich muß dran denken,das...    NOT   \n",
       "3816  hasoc_de_3817  @Kurkamp @wendt_joachim @Schroeder_Live @lamni...    NOT   \n",
       "3817  hasoc_de_3818  EU Wahlen!  AfD für Kindererziehungszeiten für...    NOT   \n",
       "3818  hasoc_de_3819  Es ist schon merkwürdig,da soll ein Wettstreit...    NOT   \n",
       "\n",
       "     task_2  \n",
       "0      NONE  \n",
       "1      NONE  \n",
       "2      NONE  \n",
       "3      NONE  \n",
       "4      NONE  \n",
       "...     ...  \n",
       "3814   NONE  \n",
       "3815   NONE  \n",
       "3816   NONE  \n",
       "3817   NONE  \n",
       "3818   NONE  \n",
       "\n",
       "[3819 rows x 4 columns]"
      ]
     },
     "execution_count": 17,
     "metadata": {},
     "output_type": "execute_result"
    }
   ],
   "source": [
    "GERMAN_TRAIN"
   ]
  },
  {
   "cell_type": "code",
   "execution_count": 18,
   "metadata": {},
   "outputs": [
    {
     "name": "stdout",
     "output_type": "stream",
     "text": [
      "            text_id  \\\n",
      "3522  hasoc_de_3523   \n",
      "1962  hasoc_de_1963   \n",
      "5     hasoc_de_6      \n",
      "1850  hasoc_de_1851   \n",
      "1968  hasoc_de_1969   \n",
      "\n",
      "                                                                                                                                                                                                                                                                                                                       text  \\\n",
      "3522  Die #Grünen.  Wollen gewählt werden. Versprechen: ... heiße 💨  Robert #Habeck faselt von #ZusammenhaltWählen  Sonst:  📢 'Es gibt kein Volk.'  'Mit #Deutschland weiß ich nichts anzufangen.' 🤔  Verbote + Bevormundung + Verbote  WER wählt sowas??👎#Europawahl2019 https://t.co/MYXIjuQlPW                             \n",
      "1962  GRÜNE stärkste Partei? Meine Antwort: Die Zerstörung der Grünen! https://t.co/FnFfoxUR7L https://t.co/MAou8RMa4J                                                                                                                                                                                                        \n",
      "5     #1EuropaFuerAlle oder wie es die #SPD heute noch bildhafteter formuliert hat:    Und willst Du nicht mein Bruder sein, so schlage ich Dir denn Schädel ein.    #Jusos #NoSPD #Baseballschläger  #NiewiederSozialismus https://t.co/fFL3xlJklo                                                                           \n",
      "1850  Vorbereitung auf das Wochenende👍👍👍 https://t.co/PX3EEVaA68                                                                                                                                                                                                                                                              \n",
      "1968  @SaschaUlbrich @Mundaufmachen @AfD ❗️❗️ in the 20th century ❗️❗️    The World - no more democracy     https://t.co/glMdNOWaBh    PLEASE WRITE THE TRUTH 🗞     @SZ_Bayern @CankaoXiaoxiCP @BILD @welt @SZ @faznet @nytimes @washingtonpost @timesofindia @DailyMailUK @Yomiuri_Online                      💙@AfDwirkt💙   \n",
      "\n",
      "     task_1 task_2  \n",
      "3522  NOT    NONE   \n",
      "1962  NOT    NONE   \n",
      "5     NOT    NONE   \n",
      "1850  NOT    NONE   \n",
      "1968  NOT    NONE   \n"
     ]
    }
   ],
   "source": [
    "with pd.option_context('display.max_colwidth', -1): \n",
    "    print(GERMAN_TRAIN.sample(5))"
   ]
  },
  {
   "cell_type": "code",
   "execution_count": 19,
   "metadata": {},
   "outputs": [
    {
     "data": {
      "text/plain": [
       "count    3819.000000\n",
       "mean      174.816968\n",
       "std        86.022304\n",
       "min         6.000000\n",
       "25%       101.000000\n",
       "50%       168.000000\n",
       "75%       262.000000\n",
       "max       507.000000\n",
       "Name: text, dtype: float64"
      ]
     },
     "execution_count": 19,
     "metadata": {},
     "output_type": "execute_result"
    }
   ],
   "source": [
    "GERMAN_TRAIN.text.map(len).describe()"
   ]
  },
  {
   "cell_type": "code",
   "execution_count": 20,
   "metadata": {},
   "outputs": [
    {
     "data": {
      "image/png": "[encoded data removed]",
      "text/plain": [
       "<Figure size 720x288 with 2 Axes>"
      ]
     },
     "metadata": {
      "needs_background": "light"
     },
     "output_type": "display_data"
    }
   ],
   "source": [
    "with sns.plotting_context('paper',font_scale=1.5):\n",
    "    fig2, ax2 = plt.subplots(nrows=1, ncols=2,sharey = True, figsize=(10, 4))\n",
    "    axes2 = ax2.flatten()\n",
    "    fig2.tight_layout()\n",
    "\n",
    "    subplot_titles = ['Sub-Task A','Sub-Task B',]\n",
    "\n",
    "    _dfs = [\n",
    "        GERMAN_TRAIN['task_1'] ,\n",
    "        GERMAN_TRAIN['task_2'] ,    \n",
    "    ]\n",
    "    for i,df in enumerate(_dfs):\n",
    "\n",
    "        axp  = sns.countplot(df,ax = axes2[i], color=(\"0.4\"))\n",
    "        axes2[i].set_title(subplot_titles[i])\n",
    "        axp.set_xlabel('label')\n",
    "        \n",
    "        for p in axp.patches:\n",
    "                axp.annotate('{}'.format(p.get_height()), (p.get_x()+0.2, p.get_height()+24))\n",
    "\n",
    "    fig2.savefig(\n",
    "        'images/german_train_countplot.pdf', format='pdf', dpi=600\n",
    "    )"
   ]
  },
  {
   "cell_type": "markdown",
   "metadata": {},
   "source": [
    "# German Test Set"
   ]
  },
  {
   "cell_type": "code",
   "execution_count": 21,
   "metadata": {},
   "outputs": [
    {
     "data": {
      "image/png": "[encoded data removed]",
      "text/plain": [
       "<Figure size 720x288 with 2 Axes>"
      ]
     },
     "metadata": {
      "needs_background": "light"
     },
     "output_type": "display_data"
    }
   ],
   "source": [
    "with sns.plotting_context('paper',font_scale=1.5):\n",
    "    fig2, ax2 = plt.subplots(nrows=1, ncols=2,sharey = True, figsize=(10, 4))\n",
    "    axes2 = ax2.flatten()\n",
    "    fig2.tight_layout()\n",
    "\n",
    "    subplot_titles = ['Sub-Task A','Sub-Task B']\n",
    "\n",
    "    _dfs = [\n",
    "        GERMAN_GOLD['task_1'] ,\n",
    "        GERMAN_GOLD['task_2'] ,    \n",
    "    ]\n",
    "    for i,df in enumerate(_dfs):\n",
    "\n",
    "        axp  = sns.countplot(df,ax = axes2[i], color=(\"b\"))\n",
    "        axes2[i].set_title(subplot_titles[i])\n",
    "        axp.set_xlabel('label')\n",
    "        \n",
    "        for p in axp.patches:\n",
    "                axp.annotate('{}'.format(p.get_height()), (p.get_x()+0.2, p.get_height()+5))\n",
    "\n",
    "    fig2.savefig(\n",
    "        'images/german_gold_countplot.pdf', format='pdf', dpi=600\n",
    "    )"
   ]
  },
  {
   "cell_type": "code",
   "execution_count": null,
   "metadata": {},
   "outputs": [],
   "source": []
  }
 ],
 "metadata": {
  "kernelspec": {
   "display_name": "Python 3",
   "language": "python",
   "name": "python3"
  },
  "language_info": {
   "codemirror_mode": {
    "name": "ipython",
    "version": 3
   },
   "file_extension": ".py",
   "mimetype": "text/x-python",
   "name": "python",
   "nbconvert_exporter": "python",
   "pygments_lexer": "ipython3",
   "version": "3.7.0"
  }
 },
 "nbformat": 4,
 "nbformat_minor": 2
}
