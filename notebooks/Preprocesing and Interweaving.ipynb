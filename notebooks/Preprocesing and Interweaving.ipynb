{
 "cells": [
  {
   "cell_type": "code",
   "execution_count": 7,
   "metadata": {},
   "outputs": [],
   "source": [
    "import sys\n",
    "sys.path.append('../src/')"
   ]
  },
  {
   "cell_type": "code",
   "execution_count": 8,
   "metadata": {},
   "outputs": [],
   "source": [
    "import numpy as np\n",
    "import time\n",
    "from pprint import pprint\n",
    "import io\n",
    "import pandas as pd\n",
    "from argparse import Namespace\n",
    "\n",
    "from sklearn.metrics import classification_report\n",
    "from sklearn.metrics import confusion_matrix\n",
    "from collections import Counter\n",
    "\n",
    "from tqdm import tqdm\n",
    "import random\n"
   ]
  },
  {
   "cell_type": "code",
   "execution_count": 9,
   "metadata": {},
   "outputs": [],
   "source": [
    "import utils.hasoc2019 as hasoc_utils\n",
    "import utils.preprocessing as preprocessor"
   ]
  },
  {
   "cell_type": "markdown",
   "metadata": {},
   "source": [
    "### Opening the dataset"
   ]
  },
  {
   "cell_type": "code",
   "execution_count": 10,
   "metadata": {},
   "outputs": [],
   "source": [
    "args = Namespace(\n",
    "    data_file = '../data/train/english_dataset.tsv'\n",
    ")"
   ]
  },
  {
   "cell_type": "code",
   "execution_count": 11,
   "metadata": {},
   "outputs": [],
   "source": [
    "data_df = hasoc_utils.open_data_as_df(args.data_file)"
   ]
  },
  {
   "cell_type": "code",
   "execution_count": 12,
   "metadata": {
    "scrolled": false
   },
   "outputs": [
    {
     "data": {
      "text/html": [
       "<div>\n",
       "<style scoped>\n",
       "    .dataframe tbody tr th:only-of-type {\n",
       "        vertical-align: middle;\n",
       "    }\n",
       "\n",
       "    .dataframe tbody tr th {\n",
       "        vertical-align: top;\n",
       "    }\n",
       "\n",
       "    .dataframe thead th {\n",
       "        text-align: right;\n",
       "    }\n",
       "</style>\n",
       "<table border=\"1\" class=\"dataframe\">\n",
       "  <thead>\n",
       "    <tr style=\"text-align: right;\">\n",
       "      <th></th>\n",
       "      <th>id</th>\n",
       "      <th>text</th>\n",
       "      <th>task_1</th>\n",
       "      <th>task_2</th>\n",
       "      <th>task_3</th>\n",
       "    </tr>\n",
       "  </thead>\n",
       "  <tbody>\n",
       "    <tr>\n",
       "      <th>0</th>\n",
       "      <td>hasoc_en_1</td>\n",
       "      <td>#DhoniKeepsTheGlove | WATCH: Sports Minister K...</td>\n",
       "      <td>NOT</td>\n",
       "      <td>NONE</td>\n",
       "      <td>NONE</td>\n",
       "    </tr>\n",
       "    <tr>\n",
       "      <th>1</th>\n",
       "      <td>hasoc_en_2</td>\n",
       "      <td>@politico No. We should remember very clearly ...</td>\n",
       "      <td>HOF</td>\n",
       "      <td>HATE</td>\n",
       "      <td>TIN</td>\n",
       "    </tr>\n",
       "    <tr>\n",
       "      <th>2</th>\n",
       "      <td>hasoc_en_3</td>\n",
       "      <td>@cricketworldcup Guess who would be the winner...</td>\n",
       "      <td>NOT</td>\n",
       "      <td>NONE</td>\n",
       "      <td>NONE</td>\n",
       "    </tr>\n",
       "    <tr>\n",
       "      <th>3</th>\n",
       "      <td>hasoc_en_4</td>\n",
       "      <td>Corbyn is too politically intellectual for #Bo...</td>\n",
       "      <td>NOT</td>\n",
       "      <td>NONE</td>\n",
       "      <td>NONE</td>\n",
       "    </tr>\n",
       "    <tr>\n",
       "      <th>4</th>\n",
       "      <td>hasoc_en_5</td>\n",
       "      <td>All the best to #TeamIndia for another swimmin...</td>\n",
       "      <td>NOT</td>\n",
       "      <td>NONE</td>\n",
       "      <td>NONE</td>\n",
       "    </tr>\n",
       "    <tr>\n",
       "      <th>...</th>\n",
       "      <td>...</td>\n",
       "      <td>...</td>\n",
       "      <td>...</td>\n",
       "      <td>...</td>\n",
       "      <td>...</td>\n",
       "    </tr>\n",
       "    <tr>\n",
       "      <th>5847</th>\n",
       "      <td>hasoc_en_5848</td>\n",
       "      <td>@davidfrum @trueblueusa1 That's cute and all, ...</td>\n",
       "      <td>HOF</td>\n",
       "      <td>PRFN</td>\n",
       "      <td>UNT</td>\n",
       "    </tr>\n",
       "    <tr>\n",
       "      <th>5848</th>\n",
       "      <td>hasoc_en_5849</td>\n",
       "      <td>a recession issa comin' #maga #magamyass #fuck...</td>\n",
       "      <td>NOT</td>\n",
       "      <td>NONE</td>\n",
       "      <td>NONE</td>\n",
       "    </tr>\n",
       "    <tr>\n",
       "      <th>5849</th>\n",
       "      <td>hasoc_en_5850</td>\n",
       "      <td>#DoctorsFightBack  Will 'The Mad n Irrational ...</td>\n",
       "      <td>HOF</td>\n",
       "      <td>OFFN</td>\n",
       "      <td>TIN</td>\n",
       "    </tr>\n",
       "    <tr>\n",
       "      <th>5850</th>\n",
       "      <td>hasoc_en_5851</td>\n",
       "      <td>#ShiningIndia #educatedindia or more like RUND...</td>\n",
       "      <td>HOF</td>\n",
       "      <td>OFFN</td>\n",
       "      <td>UNT</td>\n",
       "    </tr>\n",
       "    <tr>\n",
       "      <th>5851</th>\n",
       "      <td>hasoc_en_5852</td>\n",
       "      <td>Could this be our new Prime Minister?     #Ric...</td>\n",
       "      <td>HOF</td>\n",
       "      <td>PRFN</td>\n",
       "      <td>UNT</td>\n",
       "    </tr>\n",
       "  </tbody>\n",
       "</table>\n",
       "<p>5852 rows × 5 columns</p>\n",
       "</div>"
      ],
      "text/plain": [
       "                 id                                               text task_1  \\\n",
       "0        hasoc_en_1  #DhoniKeepsTheGlove | WATCH: Sports Minister K...    NOT   \n",
       "1        hasoc_en_2  @politico No. We should remember very clearly ...    HOF   \n",
       "2        hasoc_en_3  @cricketworldcup Guess who would be the winner...    NOT   \n",
       "3        hasoc_en_4  Corbyn is too politically intellectual for #Bo...    NOT   \n",
       "4        hasoc_en_5  All the best to #TeamIndia for another swimmin...    NOT   \n",
       "...             ...                                                ...    ...   \n",
       "5847  hasoc_en_5848  @davidfrum @trueblueusa1 That's cute and all, ...    HOF   \n",
       "5848  hasoc_en_5849  a recession issa comin' #maga #magamyass #fuck...    NOT   \n",
       "5849  hasoc_en_5850  #DoctorsFightBack  Will 'The Mad n Irrational ...    HOF   \n",
       "5850  hasoc_en_5851  #ShiningIndia #educatedindia or more like RUND...    HOF   \n",
       "5851  hasoc_en_5852  Could this be our new Prime Minister?     #Ric...    HOF   \n",
       "\n",
       "     task_2 task_3  \n",
       "0      NONE   NONE  \n",
       "1      HATE    TIN  \n",
       "2      NONE   NONE  \n",
       "3      NONE   NONE  \n",
       "4      NONE   NONE  \n",
       "...     ...    ...  \n",
       "5847   PRFN    UNT  \n",
       "5848   NONE   NONE  \n",
       "5849   OFFN    TIN  \n",
       "5850   OFFN    UNT  \n",
       "5851   PRFN    UNT  \n",
       "\n",
       "[5852 rows x 5 columns]"
      ]
     },
     "execution_count": 12,
     "metadata": {},
     "output_type": "execute_result"
    }
   ],
   "source": [
    "data_df"
   ]
  },
  {
   "cell_type": "markdown",
   "metadata": {},
   "source": [
    "# Data preprocessing"
   ]
  },
  {
   "cell_type": "code",
   "execution_count": null,
   "metadata": {},
   "outputs": [],
   "source": [
    "data_df['clean_text'] = data_df.text.map(preprocessor.preprocess)"
   ]
  },
  {
   "cell_type": "code",
   "execution_count": 85,
   "metadata": {},
   "outputs": [
    {
     "data": {
      "text/plain": [
       "['I', ' ', 'a', 'm', ' ', 'o', 'k']"
      ]
     },
     "execution_count": 85,
     "metadata": {},
     "output_type": "execute_result"
    }
   ],
   "source": [
    "preprocessor.preprocess('I am ok')"
   ]
  },
  {
   "cell_type": "markdown",
   "metadata": {},
   "source": [
    "### Examples from preprocessed data"
   ]
  },
  {
   "cell_type": "code",
   "execution_count": 5,
   "metadata": {
    "scrolled": true
   },
   "outputs": [
    {
     "data": {
      "text/plain": [
       "[\"dhoni keeps the glove | WATCH: Sports Minister Kiren Rijiju issues statement backing MS Dhoni over 'Balidaan Badge', tells BCCI to take up the matter with ICC and keep government in the know as nation's pride is involved \",\n",
       " 'politico No. We should remember very clearly that individual 1 just admitted to treason . trump is a traitor mccain sa hero john mccain day',\n",
       " 'cricketworldcup Guess who would be the winner of this cwc19? Team who gets maximum points from the abandoned matches 😄 shame on icc wiv seng ICC',\n",
       " \"Corbyn is too politically intellectual for boris johnson should not be pm Can't wait general election now \",\n",
       " 'All the best to team india for another swimming competition on Sunday against pakistan. in dv pak shame on icc cwc19 cwc19rains ☔☔ ']"
      ]
     },
     "execution_count": 5,
     "metadata": {},
     "output_type": "execute_result"
    }
   ],
   "source": [
    "proprocessed_data[:5]"
   ]
  },
  {
   "cell_type": "code",
   "execution_count": 7,
   "metadata": {
    "scrolled": true
   },
   "outputs": [
    {
     "name": "stdout",
     "output_type": "stream",
     "text": [
      "Number of samples: 5852\n",
      "Number of samples per label:  Counter({0: 3591, 1: 2261})\n"
     ]
    }
   ],
   "source": [
    "print('Number of samples:',len(proprocessed_data))\n",
    "print('Number of samples per label: ',Counter(labels)) #we count HOF as 1 and NOT as 0"
   ]
  },
  {
   "cell_type": "markdown",
   "metadata": {},
   "source": [
    "### Balancing the dataset using interweaving"
   ]
  },
  {
   "cell_type": "code",
   "execution_count": 83,
   "metadata": {},
   "outputs": [],
   "source": [
    "def interweave( df, primary_label, secondary_label ):\n",
    "    \"\"\"Interweaves the negative and positive examples to balance the dataset\n",
    "        The majority class should be primary\n",
    "        while the minority class should be secondary\n",
    "        \n",
    "        Args:\n",
    "            df (pd.DataFrame) = df containing the samples and their corresponding labels\n",
    "            primary_label (str) = label of the majority samples\n",
    "            secondary_label (str) = label of the minority samples\n",
    "            \n",
    "        Returns:\n",
    "            balanced_df (pd.DataFrame)\n",
    "    \"\"\"    \n",
    "    \n",
    "    primary = df.text[df.label == primary_label].tolist()\n",
    "    secondary = df.text[df.label == secondary_label].tolist()\n",
    "    \n",
    "    weave = []\n",
    "    weave_labels = []\n",
    "    \n",
    "    for i in range(len(primary)):\n",
    "        weave.append(primary[i])\n",
    "        weave_labels.append(primary_label)\n",
    "        try:\n",
    "            weave.append(secondary[i])\n",
    "            weave_labels.append(secondary_label)\n",
    "        except:\n",
    "            r = random.randint(0,len(secondary)-1)\n",
    "            weave.append(secondary[r])\n",
    "            weave_labels.append(secondary_label)\n",
    "    \n",
    "    balanced_df = pd.DataFrame(\n",
    "        {'text':weave, 'label':weave_labels}\n",
    "        \n",
    "    )\n",
    "    \n",
    "    return balanced_df"
   ]
  },
  {
   "cell_type": "code",
   "execution_count": 77,
   "metadata": {},
   "outputs": [
    {
     "data": {
      "text/plain": [
       "NOT    3591\n",
       "HOF    2261\n",
       "Name: task_1, dtype: int64"
      ]
     },
     "execution_count": 77,
     "metadata": {},
     "output_type": "execute_result"
    }
   ],
   "source": [
    "#find minority class\n",
    "data_df.task_1.value_counts()"
   ]
  },
  {
   "cell_type": "code",
   "execution_count": 78,
   "metadata": {},
   "outputs": [
    {
     "data": {
      "text/html": [
       "<div>\n",
       "<style scoped>\n",
       "    .dataframe tbody tr th:only-of-type {\n",
       "        vertical-align: middle;\n",
       "    }\n",
       "\n",
       "    .dataframe tbody tr th {\n",
       "        vertical-align: top;\n",
       "    }\n",
       "\n",
       "    .dataframe thead th {\n",
       "        text-align: right;\n",
       "    }\n",
       "</style>\n",
       "<table border=\"1\" class=\"dataframe\">\n",
       "  <thead>\n",
       "    <tr style=\"text-align: right;\">\n",
       "      <th></th>\n",
       "      <th>text</th>\n",
       "      <th>label</th>\n",
       "    </tr>\n",
       "  </thead>\n",
       "  <tbody>\n",
       "    <tr>\n",
       "      <th>0</th>\n",
       "      <td>#DhoniKeepsTheGlove | WATCH: Sports Minister K...</td>\n",
       "      <td>NOT</td>\n",
       "    </tr>\n",
       "    <tr>\n",
       "      <th>1</th>\n",
       "      <td>@politico No. We should remember very clearly ...</td>\n",
       "      <td>HOF</td>\n",
       "    </tr>\n",
       "    <tr>\n",
       "      <th>2</th>\n",
       "      <td>@cricketworldcup Guess who would be the winner...</td>\n",
       "      <td>NOT</td>\n",
       "    </tr>\n",
       "    <tr>\n",
       "      <th>3</th>\n",
       "      <td>Corbyn is too politically intellectual for #Bo...</td>\n",
       "      <td>NOT</td>\n",
       "    </tr>\n",
       "    <tr>\n",
       "      <th>4</th>\n",
       "      <td>All the best to #TeamIndia for another swimmin...</td>\n",
       "      <td>NOT</td>\n",
       "    </tr>\n",
       "    <tr>\n",
       "      <th>...</th>\n",
       "      <td>...</td>\n",
       "      <td>...</td>\n",
       "    </tr>\n",
       "    <tr>\n",
       "      <th>5847</th>\n",
       "      <td>@davidfrum @trueblueusa1 That's cute and all, ...</td>\n",
       "      <td>HOF</td>\n",
       "    </tr>\n",
       "    <tr>\n",
       "      <th>5848</th>\n",
       "      <td>a recession issa comin' #maga #magamyass #fuck...</td>\n",
       "      <td>NOT</td>\n",
       "    </tr>\n",
       "    <tr>\n",
       "      <th>5849</th>\n",
       "      <td>#DoctorsFightBack  Will 'The Mad n Irrational ...</td>\n",
       "      <td>HOF</td>\n",
       "    </tr>\n",
       "    <tr>\n",
       "      <th>5850</th>\n",
       "      <td>#ShiningIndia #educatedindia or more like RUND...</td>\n",
       "      <td>HOF</td>\n",
       "    </tr>\n",
       "    <tr>\n",
       "      <th>5851</th>\n",
       "      <td>Could this be our new Prime Minister?     #Ric...</td>\n",
       "      <td>HOF</td>\n",
       "    </tr>\n",
       "  </tbody>\n",
       "</table>\n",
       "<p>5852 rows × 2 columns</p>\n",
       "</div>"
      ],
      "text/plain": [
       "                                                   text label\n",
       "0     #DhoniKeepsTheGlove | WATCH: Sports Minister K...   NOT\n",
       "1     @politico No. We should remember very clearly ...   HOF\n",
       "2     @cricketworldcup Guess who would be the winner...   NOT\n",
       "3     Corbyn is too politically intellectual for #Bo...   NOT\n",
       "4     All the best to #TeamIndia for another swimmin...   NOT\n",
       "...                                                 ...   ...\n",
       "5847  @davidfrum @trueblueusa1 That's cute and all, ...   HOF\n",
       "5848  a recession issa comin' #maga #magamyass #fuck...   NOT\n",
       "5849  #DoctorsFightBack  Will 'The Mad n Irrational ...   HOF\n",
       "5850  #ShiningIndia #educatedindia or more like RUND...   HOF\n",
       "5851  Could this be our new Prime Minister?     #Ric...   HOF\n",
       "\n",
       "[5852 rows x 2 columns]"
      ]
     },
     "execution_count": 78,
     "metadata": {},
     "output_type": "execute_result"
    }
   ],
   "source": [
    "task_a_df"
   ]
  },
  {
   "cell_type": "code",
   "execution_count": 79,
   "metadata": {},
   "outputs": [],
   "source": [
    "task_a_df = data_df[['text','task_1']].copy()\n",
    "task_a_df.rename(\n",
    "    columns = {'task_1':'label'},\n",
    "    inplace = True,\n",
    ")\n",
    "balanced_data_df = interweave( task_a_df,'NOT','HOF' )"
   ]
  },
  {
   "cell_type": "code",
   "execution_count": 82,
   "metadata": {},
   "outputs": [
    {
     "data": {
      "text/plain": [
       "HOF    3591\n",
       "NOT    3591\n",
       "Name: label, dtype: int64"
      ]
     },
     "execution_count": 82,
     "metadata": {},
     "output_type": "execute_result"
    }
   ],
   "source": [
    "balanced_data_df.label.value_counts()"
   ]
  },
  {
   "cell_type": "code",
   "execution_count": null,
   "metadata": {},
   "outputs": [],
   "source": []
  }
 ],
 "metadata": {
  "kernelspec": {
   "display_name": "Python 3",
   "language": "python",
   "name": "python3"
  },
  "language_info": {
   "codemirror_mode": {
    "name": "ipython",
    "version": 3
   },
   "file_extension": ".py",
   "mimetype": "text/x-python",
   "name": "python",
   "nbconvert_exporter": "python",
   "pygments_lexer": "ipython3",
   "version": "3.7.0"
  }
 },
 "nbformat": 4,
 "nbformat_minor": 2
}
