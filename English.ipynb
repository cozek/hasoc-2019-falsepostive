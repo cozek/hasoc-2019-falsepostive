{
 "cells": [
  {
   "cell_type": "code",
   "execution_count": 19,
   "metadata": {},
   "outputs": [],
   "source": [
    "import numpy as np\n",
    "import time\n",
    "from pprint import pprint\n",
    "\n",
    "from nltk.tokenize import TweetTokenizer #https://www.nltk.org/api/nltk.tokenize.html\n",
    "from nltk.corpus import stopwords\n",
    "import re\n",
    "import io\n",
    "import pandas as pd\n",
    "import wordsegment as ws\n",
    "ws.load()\n",
    "\n",
    "from sklearn.metrics import classification_report\n",
    "from sklearn.metrics import confusion_matrix\n",
    "from collections import Counter\n",
    "\n",
    "from tqdm import tqdm\n",
    "import random\n",
    "\n",
    "from utils import openHasocFile"
   ]
  },
  {
   "cell_type": "code",
   "execution_count": 20,
   "metadata": {},
   "outputs": [
    {
     "ename": "NameError",
     "evalue": "name 'csv' is not defined",
     "output_type": "error",
     "traceback": [
      "\u001b[0;31m---------------------------------------------------------------------------\u001b[0m",
      "\u001b[0;31mNameError\u001b[0m                                 Traceback (most recent call last)",
      "\u001b[0;32m<ipython-input-20-bad9623f7fa7>\u001b[0m in \u001b[0;36m<module>\u001b[0;34m()\u001b[0m\n\u001b[1;32m      1\u001b[0m \u001b[0;31m# dataset_loc = '/Users/cozek/Documents/MTech/3rd Sem/Project/hasoc/english_dataset/english_dataset.tsv'\u001b[0m\u001b[0;34m\u001b[0m\u001b[0;34m\u001b[0m\u001b[0m\n\u001b[1;32m      2\u001b[0m \u001b[0mdataset_loc\u001b[0m \u001b[0;34m=\u001b[0m \u001b[0;34m'../english_dataset/english_dataset.tsv'\u001b[0m\u001b[0;34m\u001b[0m\u001b[0m\n\u001b[0;32m----> 3\u001b[0;31m \u001b[0mtrain_data\u001b[0m\u001b[0;34m,\u001b[0m\u001b[0mtrain_label\u001b[0m \u001b[0;34m=\u001b[0m \u001b[0mopenHasocFile\u001b[0m\u001b[0;34m(\u001b[0m\u001b[0mdataset_loc\u001b[0m\u001b[0;34m)\u001b[0m\u001b[0;34m\u001b[0m\u001b[0m\n\u001b[0m\u001b[1;32m      4\u001b[0m \u001b[0;34m\u001b[0m\u001b[0m\n",
      "\u001b[0;32m~/Documents/MTech/3rd Sem/Project/hasoc/hasoc-2019-falsepostive/utils.py\u001b[0m in \u001b[0;36mopenHasocFile\u001b[0;34m(file_location)\u001b[0m\n\u001b[1;32m     24\u001b[0m     \u001b[0mtknz\u001b[0m \u001b[0;34m=\u001b[0m \u001b[0mTweetTokenizer\u001b[0m\u001b[0;34m(\u001b[0m\u001b[0;34m)\u001b[0m\u001b[0;34m\u001b[0m\u001b[0m\n\u001b[1;32m     25\u001b[0m     \u001b[0mmax_len\u001b[0m \u001b[0;34m=\u001b[0m \u001b[0;36m0\u001b[0m\u001b[0;34m\u001b[0m\u001b[0m\n\u001b[0;32m---> 26\u001b[0;31m     \u001b[0;32mfor\u001b[0m \u001b[0msentence\u001b[0m \u001b[0;32min\u001b[0m \u001b[0mdata\u001b[0m\u001b[0;34m:\u001b[0m\u001b[0;34m\u001b[0m\u001b[0m\n\u001b[0m\u001b[1;32m     27\u001b[0m         \u001b[0ml\u001b[0m \u001b[0;34m=\u001b[0m \u001b[0mlen\u001b[0m\u001b[0;34m(\u001b[0m\u001b[0mtknz\u001b[0m\u001b[0;34m.\u001b[0m\u001b[0mtokenize\u001b[0m\u001b[0;34m(\u001b[0m\u001b[0msentence\u001b[0m\u001b[0;34m)\u001b[0m\u001b[0;34m)\u001b[0m\u001b[0;34m\u001b[0m\u001b[0m\n\u001b[1;32m     28\u001b[0m         \u001b[0;32mif\u001b[0m  \u001b[0ml\u001b[0m \u001b[0;34m>\u001b[0m \u001b[0mmax_len\u001b[0m\u001b[0;34m:\u001b[0m\u001b[0;34m\u001b[0m\u001b[0m\n",
      "\u001b[0;31mNameError\u001b[0m: name 'csv' is not defined"
     ]
    }
   ],
   "source": [
    "# dataset_loc = '/Users/cozek/Documents/MTech/3rd Sem/Project/hasoc/english_dataset/english_dataset.tsv'\n",
    "dataset_loc = '../english_dataset/english_dataset.tsv'\n",
    "train_data,train_label = openHasocFile(dataset_loc)\n",
    "\n",
    "\n"
   ]
  },
  {
   "cell_type": "code",
   "execution_count": 16,
   "metadata": {},
   "outputs": [
    {
     "name": "stdout",
     "output_type": "stream",
     "text": [
      "FalsePostive_english_task_1_run_1.tsv \u001b[1m\u001b[36mhasoc-2019-falsepostive\u001b[m\u001b[m\r\n",
      "FalsePostive_english_task_2_run_1.tsv hasoc2019_de_test.rar\r\n",
      "FalsePostive_english_task_2_run_2.tsv hasoc2019_de_test.tsv\r\n",
      "FalsePostive_english_task_3_run_1.tsv hasoc2019_en_test.rar\r\n",
      "FalsePostive_english_task_3_run_2.tsv hasoc2019_en_test.tsv\r\n",
      "\u001b[1m\u001b[36mHASOC%20Submission\u001b[m\u001b[m                    hasoc2019_hi_test.tsv\r\n",
      "\u001b[1m\u001b[36mde_submission\u001b[m\u001b[m                         \u001b[1m\u001b[36mhi_submission\u001b[m\u001b[m\r\n",
      "\u001b[1m\u001b[36menglish_dataset\u001b[m\u001b[m                       \u001b[1m\u001b[36mhindi_dataset\u001b[m\u001b[m\r\n",
      "english_dataset.zip                   hindi_dataset.zip\r\n",
      "\u001b[1m\u001b[36mgerman_dataset\u001b[m\u001b[m                        \u001b[1m\u001b[36mresults\u001b[m\u001b[m\r\n",
      "german_dataset.zip                    sub_en.tsv\r\n"
     ]
    }
   ],
   "source": [
    "!ls .."
   ]
  },
  {
   "cell_type": "code",
   "execution_count": 17,
   "metadata": {},
   "outputs": [
    {
     "ename": "NameError",
     "evalue": "name 'csv' is not defined",
     "output_type": "error",
     "traceback": [
      "\u001b[0;31m---------------------------------------------------------------------------\u001b[0m",
      "\u001b[0;31mNameError\u001b[0m                                 Traceback (most recent call last)",
      "\u001b[0;32m<ipython-input-17-3d858fccaacc>\u001b[0m in \u001b[0;36m<module>\u001b[0;34m()\u001b[0m\n\u001b[1;32m      1\u001b[0m \u001b[0mdataset_loc\u001b[0m \u001b[0;34m=\u001b[0m \u001b[0;34m'/Users/cozek/Documents/MTech/3rd Sem/Project/hasoc/english_dataset/english_dataset.tsv'\u001b[0m\u001b[0;34m\u001b[0m\u001b[0m\n\u001b[1;32m      2\u001b[0m \u001b[0mgerman_dataset_loc\u001b[0m \u001b[0;34m=\u001b[0m \u001b[0;34m'/Users/cozek/Documents/MTech/3rd Sem/Project/hasoc/german_dataset/german_dataset.tsv'\u001b[0m\u001b[0;34m\u001b[0m\u001b[0m\n\u001b[0;32m----> 3\u001b[0;31m \u001b[0mtrain_data\u001b[0m\u001b[0;34m,\u001b[0m\u001b[0mtrain_label\u001b[0m \u001b[0;34m=\u001b[0m \u001b[0mopenHasocFile\u001b[0m\u001b[0;34m(\u001b[0m\u001b[0mdataset_loc\u001b[0m\u001b[0;34m)\u001b[0m\u001b[0;34m\u001b[0m\u001b[0m\n\u001b[0m\u001b[1;32m      4\u001b[0m \u001b[0;31m# train_data = preprocess(train_data)\u001b[0m\u001b[0;34m\u001b[0m\u001b[0;34m\u001b[0m\u001b[0m\n",
      "\u001b[0;32m~/Documents/MTech/3rd Sem/Project/hasoc/hasoc-2019-falsepostive/utils.py\u001b[0m in \u001b[0;36mopenHasocFile\u001b[0;34m(file_location)\u001b[0m\n\u001b[1;32m     24\u001b[0m     \u001b[0mtknz\u001b[0m \u001b[0;34m=\u001b[0m \u001b[0mTweetTokenizer\u001b[0m\u001b[0;34m(\u001b[0m\u001b[0;34m)\u001b[0m\u001b[0;34m\u001b[0m\u001b[0m\n\u001b[1;32m     25\u001b[0m     \u001b[0mmax_len\u001b[0m \u001b[0;34m=\u001b[0m \u001b[0;36m0\u001b[0m\u001b[0;34m\u001b[0m\u001b[0m\n\u001b[0;32m---> 26\u001b[0;31m     \u001b[0;32mfor\u001b[0m \u001b[0msentence\u001b[0m \u001b[0;32min\u001b[0m \u001b[0mdata\u001b[0m\u001b[0;34m:\u001b[0m\u001b[0;34m\u001b[0m\u001b[0m\n\u001b[0m\u001b[1;32m     27\u001b[0m         \u001b[0ml\u001b[0m \u001b[0;34m=\u001b[0m \u001b[0mlen\u001b[0m\u001b[0;34m(\u001b[0m\u001b[0mtknz\u001b[0m\u001b[0;34m.\u001b[0m\u001b[0mtokenize\u001b[0m\u001b[0;34m(\u001b[0m\u001b[0msentence\u001b[0m\u001b[0;34m)\u001b[0m\u001b[0;34m)\u001b[0m\u001b[0;34m\u001b[0m\u001b[0m\n\u001b[1;32m     28\u001b[0m         \u001b[0;32mif\u001b[0m  \u001b[0ml\u001b[0m \u001b[0;34m>\u001b[0m \u001b[0mmax_len\u001b[0m\u001b[0;34m:\u001b[0m\u001b[0;34m\u001b[0m\u001b[0m\n",
      "\u001b[0;31mNameError\u001b[0m: name 'csv' is not defined"
     ]
    }
   ],
   "source": [
    "dataset_loc = '/Users/cozek/Documents/MTech/3rd Sem/Project/hasoc/english_dataset/english_dataset.tsv'\n",
    "german_dataset_loc = '/Users/cozek/Documents/MTech/3rd Sem/Project/hasoc/german_dataset/german_dataset.tsv'\n",
    "train_data,train_label = openHasocFile(dataset_loc)\n",
    "# train_data = preprocess(train_data)"
   ]
  },
  {
   "cell_type": "code",
   "execution_count": null,
   "metadata": {},
   "outputs": [],
   "source": []
  }
 ],
 "metadata": {
  "kernelspec": {
   "display_name": "Python 3",
   "language": "python",
   "name": "python3"
  },
  "language_info": {
   "codemirror_mode": {
    "name": "ipython",
    "version": 3
   },
   "file_extension": ".py",
   "mimetype": "text/x-python",
   "name": "python",
   "nbconvert_exporter": "python",
   "pygments_lexer": "ipython3",
   "version": "3.7.0"
  }
 },
 "nbformat": 4,
 "nbformat_minor": 2
}
